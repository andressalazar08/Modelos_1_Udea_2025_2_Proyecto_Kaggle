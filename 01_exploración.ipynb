{
  "nbformat": 4,
  "nbformat_minor": 0,
  "metadata": {
    "colab": {
      "provenance": []
    },
    "kernelspec": {
      "name": "python3",
      "display_name": "Python 3"
    },
    "language_info": {
      "name": "python"
    }
  },
  "cells": [
    {
      "cell_type": "markdown",
      "source": [
        "# Competencia Kaggle\n",
        "##Modelos y Simulación I Udea 2025-2"
      ],
      "metadata": {
        "id": "Ysq1pZtXdkLw"
      }
    },
    {
      "cell_type": "code",
      "execution_count": 1,
      "metadata": {
        "colab": {
          "base_uri": "https://localhost:8080/",
          "height": 75
        },
        "id": "SXf0rfINZDTC",
        "outputId": "98f28ca2-c5f3-46e3-a172-b48d8aad53a9"
      },
      "outputs": [
        {
          "output_type": "display_data",
          "data": {
            "text/plain": [
              "<IPython.core.display.HTML object>"
            ],
            "text/html": [
              "\n",
              "<meta name=\"google-signin-client_id\"\n",
              "      content=\"461673936472-kdjosv61up3ac1ajeuq6qqu72upilmls.apps.googleusercontent.com\"/>\n",
              "<script src=\"https://apis.google.com/js/client:platform.js?onload=google_button_start\"></script>\n",
              "    "
            ]
          },
          "metadata": {}
        },
        {
          "output_type": "stream",
          "name": "stdout",
          "text": [
            "replicating local resources\n"
          ]
        },
        {
          "output_type": "execute_result",
          "data": {
            "text/plain": [
              "<IPython.core.display.HTML object>"
            ],
            "text/html": [
              "<h3>See <a href='https://m5knaekxo6.execute-api.us-west-2.amazonaws.com/dev-v0001/rlxmooc/web/login' target='_blank'>my courses and progress</a></h2>"
            ]
          },
          "metadata": {},
          "execution_count": 1
        }
      ],
      "source": [
        "!wget --no-cache -O init.py -q https://raw.githubusercontent.com/rramosp/ai4eng.v1/main/content/init.py\n",
        "import init; init.init(force_download=False); init.get_weblink()"
      ]
    },
    {
      "cell_type": "code",
      "source": [],
      "metadata": {
        "id": "CgPb-17LZRbn"
      },
      "execution_count": null,
      "outputs": []
    },
    {
      "cell_type": "markdown",
      "source": [
        "# Link para descarga directa desde kaggle:\n",
        "\n",
        "**kaggle competitions download -c udea-ai-4-eng-20252-pruebas-saber-pro-colombia**"
      ],
      "metadata": {
        "id": "HACoh_1Qa6Gx"
      }
    },
    {
      "cell_type": "markdown",
      "source": [
        "# Se verifica instalacion de kaggle"
      ],
      "metadata": {
        "id": "YOAElbF9bxNV"
      }
    },
    {
      "cell_type": "code",
      "source": [
        "!kaggle"
      ],
      "metadata": {
        "colab": {
          "base_uri": "https://localhost:8080/"
        },
        "id": "1CtuTvLAa9KG",
        "outputId": "3317b68d-a300-4d74-d1d8-f9e689e8ce7f"
      },
      "execution_count": 2,
      "outputs": [
        {
          "output_type": "stream",
          "name": "stdout",
          "text": [
            "Traceback (most recent call last):\n",
            "  File \"/usr/local/bin/kaggle\", line 4, in <module>\n",
            "    from kaggle.cli import main\n",
            "  File \"/usr/local/lib/python3.12/dist-packages/kaggle/__init__.py\", line 6, in <module>\n",
            "    api.authenticate()\n",
            "  File \"/usr/local/lib/python3.12/dist-packages/kaggle/api/kaggle_api_extended.py\", line 434, in authenticate\n",
            "    raise IOError('Could not find {}. Make sure it\\'s located in'\n",
            "OSError: Could not find kaggle.json. Make sure it's located in /root/.config/kaggle. Or use the environment method. See setup instructions at https://github.com/Kaggle/kaggle-api/\n"
          ]
        }
      ]
    },
    {
      "cell_type": "code",
      "source": [],
      "metadata": {
        "id": "ePYEHxlNbBtF"
      },
      "execution_count": null,
      "outputs": []
    },
    {
      "cell_type": "markdown",
      "source": [
        "# Se debe generar un token de la cuenta de kaggle en settings\n",
        "se genera un archivo .json que se debe mover a la carpeta kaggle"
      ],
      "metadata": {
        "id": "1dONBo_Bb3K_"
      }
    },
    {
      "cell_type": "code",
      "source": [
        "!mv kaggle.json /root/.config/kaggle/kaggle.json"
      ],
      "metadata": {
        "id": "6H0cF5y6b_8n"
      },
      "execution_count": 3,
      "outputs": []
    },
    {
      "cell_type": "markdown",
      "source": [
        "# Comprobación final del setting de kaggle\n",
        "inhabilito la api key para que otros usuarios no la puedan ver\n",
        "\n",
        "chmod 600 /root/.config/kaggle/kaggle.json"
      ],
      "metadata": {
        "id": "S8IFOABScOHY"
      }
    },
    {
      "cell_type": "code",
      "source": [
        "!chmod 600 /root/.config/kaggle/kaggle.json"
      ],
      "metadata": {
        "id": "8SFiwtkEckgz"
      },
      "execution_count": 5,
      "outputs": []
    },
    {
      "cell_type": "code",
      "source": [
        "!kaggle"
      ],
      "metadata": {
        "colab": {
          "base_uri": "https://localhost:8080/"
        },
        "id": "Z0EEDwdfcJDZ",
        "outputId": "1ed0c775-4b61-4522-8140-4cae73f47dd4"
      },
      "execution_count": 6,
      "outputs": [
        {
          "output_type": "stream",
          "name": "stdout",
          "text": [
            "usage: kaggle [-h] [-v] [-W]\n",
            "              {competitions,c,datasets,d,kernels,k,models,m,files,f,config}\n",
            "              ...\n",
            "kaggle: error: the following arguments are required: command\n"
          ]
        }
      ]
    },
    {
      "cell_type": "markdown",
      "source": [
        "###*queda comprobada la configuración de la API key que me generó kaggle*"
      ],
      "metadata": {
        "id": "A9_oZtMkcrlQ"
      }
    },
    {
      "cell_type": "code",
      "source": [],
      "metadata": {
        "id": "2bUCqAjFcTJl"
      },
      "execution_count": null,
      "outputs": []
    },
    {
      "cell_type": "markdown",
      "source": [
        "# Paso 1. Ahora se indica que el servidor debe bajar de kaggle los datasets de la competencia"
      ],
      "metadata": {
        "id": "prXyYV72c1PG"
      }
    },
    {
      "cell_type": "code",
      "source": [
        "!kaggle competitions download -c udea-ai-4-eng-20252-pruebas-saber-pro-colombia"
      ],
      "metadata": {
        "colab": {
          "base_uri": "https://localhost:8080/"
        },
        "id": "6yXMSZzXc8XF",
        "outputId": "d8bed7de-f225-41a5-edd9-329b0e62428e"
      },
      "execution_count": 8,
      "outputs": [
        {
          "output_type": "stream",
          "name": "stdout",
          "text": [
            "Downloading udea-ai-4-eng-20252-pruebas-saber-pro-colombia.zip to /content\n",
            "\r  0% 0.00/29.9M [00:00<?, ?B/s]\n",
            "\r100% 29.9M/29.9M [00:00<00:00, 1.01GB/s]\n"
          ]
        }
      ]
    },
    {
      "cell_type": "markdown",
      "source": [
        "###Pantallazo con la descarga del .zip"
      ],
      "metadata": {
        "id": "AYlOdG_hdWXT"
      }
    },
    {
      "cell_type": "markdown",
      "source": [
        "![image.png](data:image/png;base64,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)"
      ],
      "metadata": {
        "id": "y6DXC40_dUVb"
      }
    },
    {
      "cell_type": "markdown",
      "source": [
        "# Descomprimimos el archivo .zip"
      ],
      "metadata": {
        "id": "hiVnHDcBdvRo"
      }
    },
    {
      "cell_type": "code",
      "source": [
        "!unzip -l udea-ai-4-eng-20252-pruebas-saber-pro-colombia.zip"
      ],
      "metadata": {
        "colab": {
          "base_uri": "https://localhost:8080/"
        },
        "id": "TEgnnQpwddbi",
        "outputId": "d16e653f-b3dd-486b-a09f-f02a352af2fe"
      },
      "execution_count": 9,
      "outputs": [
        {
          "output_type": "stream",
          "name": "stdout",
          "text": [
            "Archive:  udea-ai-4-eng-20252-pruebas-saber-pro-colombia.zip\n",
            "  Length      Date    Time    Name\n",
            "---------  ---------- -----   ----\n",
            "  4716673  2025-09-16 01:46   submission_example.csv\n",
            " 59185238  2025-09-16 01:46   test.csv\n",
            "143732437  2025-09-16 01:46   train.csv\n",
            "---------                     -------\n",
            "207634348                     3 files\n"
          ]
        }
      ]
    },
    {
      "cell_type": "code",
      "source": [
        "!unzip udea-ai-4-eng-20252-pruebas-saber-pro-colombia.zip"
      ],
      "metadata": {
        "colab": {
          "base_uri": "https://localhost:8080/"
        },
        "id": "LfviEmj2dILI",
        "outputId": "8cd02927-4cb3-499f-cad9-eef5b76fc870"
      },
      "execution_count": 10,
      "outputs": [
        {
          "output_type": "stream",
          "name": "stdout",
          "text": [
            "Archive:  udea-ai-4-eng-20252-pruebas-saber-pro-colombia.zip\n",
            "  inflating: submission_example.csv  \n",
            "  inflating: test.csv                \n",
            "  inflating: train.csv               \n"
          ]
        }
      ]
    },
    {
      "cell_type": "code",
      "source": [
        "!ls -lash *.csv"
      ],
      "metadata": {
        "colab": {
          "base_uri": "https://localhost:8080/"
        },
        "id": "GEoX_yBSeGHs",
        "outputId": "968f3d56-1e73-43f1-d74b-596ed2b8cc90"
      },
      "execution_count": 11,
      "outputs": [
        {
          "output_type": "stream",
          "name": "stdout",
          "text": [
            "4.5M -rw-r--r-- 1 root root 4.5M Sep 16 01:46 submission_example.csv\n",
            " 57M -rw-r--r-- 1 root root  57M Sep 16 01:46 test.csv\n",
            "138M -rw-r--r-- 1 root root 138M Sep 16 01:46 train.csv\n"
          ]
        }
      ]
    },
    {
      "cell_type": "markdown",
      "source": [
        "#Trabajando con los csv\n",
        "Ahora que los archivos csv de la competencia ya se encuentran disponibles los podemos cargar con pandas para empezar a trabajar.\n",
        "\n",
        "# Trabajamos con el archivo de **train.csv**"
      ],
      "metadata": {
        "id": "DYWn2mNFeZsN"
      }
    },
    {
      "cell_type": "code",
      "source": [
        "import pandas as pd"
      ],
      "metadata": {
        "id": "GfHx_StseVC1"
      },
      "execution_count": 12,
      "outputs": []
    },
    {
      "cell_type": "code",
      "source": [
        "train=pd.read_csv('train.csv')"
      ],
      "metadata": {
        "id": "7VBe5v28eq1M"
      },
      "execution_count": 13,
      "outputs": []
    },
    {
      "cell_type": "code",
      "source": [
        "train.shape"
      ],
      "metadata": {
        "colab": {
          "base_uri": "https://localhost:8080/"
        },
        "id": "kTPkr7FEeyEG",
        "outputId": "a8375a09-6e4c-4d2e-fac6-4c2edbfeba52"
      },
      "execution_count": 15,
      "outputs": [
        {
          "output_type": "execute_result",
          "data": {
            "text/plain": [
              "(692500, 21)"
            ]
          },
          "metadata": {},
          "execution_count": 15
        }
      ]
    },
    {
      "cell_type": "code",
      "source": [
        "train.head()"
      ],
      "metadata": {
        "colab": {
          "base_uri": "https://localhost:8080/",
          "height": 412
        },
        "id": "6Pjpv_0ge9o7",
        "outputId": "31c9ffd5-f809-4235-a021-32df830fddc3"
      },
      "execution_count": 16,
      "outputs": [
        {
          "output_type": "execute_result",
          "data": {
            "text/plain": [
              "       ID  PERIODO_ACADEMICO            E_PRGM_ACADEMICO E_PRGM_DEPARTAMENTO  \\\n",
              "0  904256              20212                  ENFERMERIA              BOGOTÁ   \n",
              "1  645256              20212                     DERECHO           ATLANTICO   \n",
              "2  308367              20203       MERCADEO Y PUBLICIDAD              BOGOTÁ   \n",
              "3  470353              20195  ADMINISTRACION DE EMPRESAS           SANTANDER   \n",
              "4  989032              20212                  PSICOLOGIA           ANTIOQUIA   \n",
              "\n",
              "                E_VALORMATRICULAUNIVERSIDAD E_HORASSEMANATRABAJA  \\\n",
              "0  Entre 5.5 millones y menos de 7 millones    Menos de 10 horas   \n",
              "1  Entre 2.5 millones y menos de 4 millones                    0   \n",
              "2  Entre 2.5 millones y menos de 4 millones      Más de 30 horas   \n",
              "3  Entre 4 millones y menos de 5.5 millones                    0   \n",
              "4  Entre 2.5 millones y menos de 4 millones  Entre 21 y 30 horas   \n",
              "\n",
              "  F_ESTRATOVIVIENDA F_TIENEINTERNET                    F_EDUCACIONPADRE  \\\n",
              "0         Estrato 3              Si    Técnica o tecnológica incompleta   \n",
              "1         Estrato 3              No      Técnica o tecnológica completa   \n",
              "2         Estrato 3              Si  Secundaria (Bachillerato) completa   \n",
              "3         Estrato 4              Si                             No sabe   \n",
              "4         Estrato 3              Si                   Primaria completa   \n",
              "\n",
              "  F_TIENELAVADORA  ... E_PRIVADO_LIBERTAD E_PAGOMATRICULAPROPIO  \\\n",
              "0              Si  ...                  N                    No   \n",
              "1              Si  ...                  N                    No   \n",
              "2              Si  ...                  N                    No   \n",
              "3              Si  ...                  N                    No   \n",
              "4              Si  ...                  N                    No   \n",
              "\n",
              "  F_TIENECOMPUTADOR F_TIENEINTERNET.1                    F_EDUCACIONMADRE  \\\n",
              "0                Si                Si                           Postgrado   \n",
              "1                Si                No    Técnica o tecnológica incompleta   \n",
              "2                No                Si  Secundaria (Bachillerato) completa   \n",
              "3                Si                Si  Secundaria (Bachillerato) completa   \n",
              "4                Si                Si                   Primaria completa   \n",
              "\n",
              "  RENDIMIENTO_GLOBAL INDICADOR_1  INDICADOR_2  INDICADOR_3  INDICADOR_4  \n",
              "0         medio-alto       0.322        0.208        0.310        0.267  \n",
              "1               bajo       0.311        0.215        0.292        0.264  \n",
              "2               bajo       0.297        0.214        0.305        0.264  \n",
              "3               alto       0.485        0.172        0.252        0.190  \n",
              "4         medio-bajo       0.316        0.232        0.285        0.294  \n",
              "\n",
              "[5 rows x 21 columns]"
            ],
            "text/html": [
              "\n",
              "  <div id=\"df-ee8ada1c-161c-4d69-b144-1c7a4b7c11c8\" class=\"colab-df-container\">\n",
              "    <div>\n",
              "<style scoped>\n",
              "    .dataframe tbody tr th:only-of-type {\n",
              "        vertical-align: middle;\n",
              "    }\n",
              "\n",
              "    .dataframe tbody tr th {\n",
              "        vertical-align: top;\n",
              "    }\n",
              "\n",
              "    .dataframe thead th {\n",
              "        text-align: right;\n",
              "    }\n",
              "</style>\n",
              "<table border=\"1\" class=\"dataframe\">\n",
              "  <thead>\n",
              "    <tr style=\"text-align: right;\">\n",
              "      <th></th>\n",
              "      <th>ID</th>\n",
              "      <th>PERIODO_ACADEMICO</th>\n",
              "      <th>E_PRGM_ACADEMICO</th>\n",
              "      <th>E_PRGM_DEPARTAMENTO</th>\n",
              "      <th>E_VALORMATRICULAUNIVERSIDAD</th>\n",
              "      <th>E_HORASSEMANATRABAJA</th>\n",
              "      <th>F_ESTRATOVIVIENDA</th>\n",
              "      <th>F_TIENEINTERNET</th>\n",
              "      <th>F_EDUCACIONPADRE</th>\n",
              "      <th>F_TIENELAVADORA</th>\n",
              "      <th>...</th>\n",
              "      <th>E_PRIVADO_LIBERTAD</th>\n",
              "      <th>E_PAGOMATRICULAPROPIO</th>\n",
              "      <th>F_TIENECOMPUTADOR</th>\n",
              "      <th>F_TIENEINTERNET.1</th>\n",
              "      <th>F_EDUCACIONMADRE</th>\n",
              "      <th>RENDIMIENTO_GLOBAL</th>\n",
              "      <th>INDICADOR_1</th>\n",
              "      <th>INDICADOR_2</th>\n",
              "      <th>INDICADOR_3</th>\n",
              "      <th>INDICADOR_4</th>\n",
              "    </tr>\n",
              "  </thead>\n",
              "  <tbody>\n",
              "    <tr>\n",
              "      <th>0</th>\n",
              "      <td>904256</td>\n",
              "      <td>20212</td>\n",
              "      <td>ENFERMERIA</td>\n",
              "      <td>BOGOTÁ</td>\n",
              "      <td>Entre 5.5 millones y menos de 7 millones</td>\n",
              "      <td>Menos de 10 horas</td>\n",
              "      <td>Estrato 3</td>\n",
              "      <td>Si</td>\n",
              "      <td>Técnica o tecnológica incompleta</td>\n",
              "      <td>Si</td>\n",
              "      <td>...</td>\n",
              "      <td>N</td>\n",
              "      <td>No</td>\n",
              "      <td>Si</td>\n",
              "      <td>Si</td>\n",
              "      <td>Postgrado</td>\n",
              "      <td>medio-alto</td>\n",
              "      <td>0.322</td>\n",
              "      <td>0.208</td>\n",
              "      <td>0.310</td>\n",
              "      <td>0.267</td>\n",
              "    </tr>\n",
              "    <tr>\n",
              "      <th>1</th>\n",
              "      <td>645256</td>\n",
              "      <td>20212</td>\n",
              "      <td>DERECHO</td>\n",
              "      <td>ATLANTICO</td>\n",
              "      <td>Entre 2.5 millones y menos de 4 millones</td>\n",
              "      <td>0</td>\n",
              "      <td>Estrato 3</td>\n",
              "      <td>No</td>\n",
              "      <td>Técnica o tecnológica completa</td>\n",
              "      <td>Si</td>\n",
              "      <td>...</td>\n",
              "      <td>N</td>\n",
              "      <td>No</td>\n",
              "      <td>Si</td>\n",
              "      <td>No</td>\n",
              "      <td>Técnica o tecnológica incompleta</td>\n",
              "      <td>bajo</td>\n",
              "      <td>0.311</td>\n",
              "      <td>0.215</td>\n",
              "      <td>0.292</td>\n",
              "      <td>0.264</td>\n",
              "    </tr>\n",
              "    <tr>\n",
              "      <th>2</th>\n",
              "      <td>308367</td>\n",
              "      <td>20203</td>\n",
              "      <td>MERCADEO Y PUBLICIDAD</td>\n",
              "      <td>BOGOTÁ</td>\n",
              "      <td>Entre 2.5 millones y menos de 4 millones</td>\n",
              "      <td>Más de 30 horas</td>\n",
              "      <td>Estrato 3</td>\n",
              "      <td>Si</td>\n",
              "      <td>Secundaria (Bachillerato) completa</td>\n",
              "      <td>Si</td>\n",
              "      <td>...</td>\n",
              "      <td>N</td>\n",
              "      <td>No</td>\n",
              "      <td>No</td>\n",
              "      <td>Si</td>\n",
              "      <td>Secundaria (Bachillerato) completa</td>\n",
              "      <td>bajo</td>\n",
              "      <td>0.297</td>\n",
              "      <td>0.214</td>\n",
              "      <td>0.305</td>\n",
              "      <td>0.264</td>\n",
              "    </tr>\n",
              "    <tr>\n",
              "      <th>3</th>\n",
              "      <td>470353</td>\n",
              "      <td>20195</td>\n",
              "      <td>ADMINISTRACION DE EMPRESAS</td>\n",
              "      <td>SANTANDER</td>\n",
              "      <td>Entre 4 millones y menos de 5.5 millones</td>\n",
              "      <td>0</td>\n",
              "      <td>Estrato 4</td>\n",
              "      <td>Si</td>\n",
              "      <td>No sabe</td>\n",
              "      <td>Si</td>\n",
              "      <td>...</td>\n",
              "      <td>N</td>\n",
              "      <td>No</td>\n",
              "      <td>Si</td>\n",
              "      <td>Si</td>\n",
              "      <td>Secundaria (Bachillerato) completa</td>\n",
              "      <td>alto</td>\n",
              "      <td>0.485</td>\n",
              "      <td>0.172</td>\n",
              "      <td>0.252</td>\n",
              "      <td>0.190</td>\n",
              "    </tr>\n",
              "    <tr>\n",
              "      <th>4</th>\n",
              "      <td>989032</td>\n",
              "      <td>20212</td>\n",
              "      <td>PSICOLOGIA</td>\n",
              "      <td>ANTIOQUIA</td>\n",
              "      <td>Entre 2.5 millones y menos de 4 millones</td>\n",
              "      <td>Entre 21 y 30 horas</td>\n",
              "      <td>Estrato 3</td>\n",
              "      <td>Si</td>\n",
              "      <td>Primaria completa</td>\n",
              "      <td>Si</td>\n",
              "      <td>...</td>\n",
              "      <td>N</td>\n",
              "      <td>No</td>\n",
              "      <td>Si</td>\n",
              "      <td>Si</td>\n",
              "      <td>Primaria completa</td>\n",
              "      <td>medio-bajo</td>\n",
              "      <td>0.316</td>\n",
              "      <td>0.232</td>\n",
              "      <td>0.285</td>\n",
              "      <td>0.294</td>\n",
              "    </tr>\n",
              "  </tbody>\n",
              "</table>\n",
              "<p>5 rows × 21 columns</p>\n",
              "</div>\n",
              "    <div class=\"colab-df-buttons\">\n",
              "\n",
              "  <div class=\"colab-df-container\">\n",
              "    <button class=\"colab-df-convert\" onclick=\"convertToInteractive('df-ee8ada1c-161c-4d69-b144-1c7a4b7c11c8')\"\n",
              "            title=\"Convert this dataframe to an interactive table.\"\n",
              "            style=\"display:none;\">\n",
              "\n",
              "  <svg xmlns=\"http://www.w3.org/2000/svg\" height=\"24px\" viewBox=\"0 -960 960 960\">\n",
              "    <path d=\"M120-120v-720h720v720H120Zm60-500h600v-160H180v160Zm220 220h160v-160H400v160Zm0 220h160v-160H400v160ZM180-400h160v-160H180v160Zm440 0h160v-160H620v160ZM180-180h160v-160H180v160Zm440 0h160v-160H620v160Z\"/>\n",
              "  </svg>\n",
              "    </button>\n",
              "\n",
              "  <style>\n",
              "    .colab-df-container {\n",
              "      display:flex;\n",
              "      gap: 12px;\n",
              "    }\n",
              "\n",
              "    .colab-df-convert {\n",
              "      background-color: #E8F0FE;\n",
              "      border: none;\n",
              "      border-radius: 50%;\n",
              "      cursor: pointer;\n",
              "      display: none;\n",
              "      fill: #1967D2;\n",
              "      height: 32px;\n",
              "      padding: 0 0 0 0;\n",
              "      width: 32px;\n",
              "    }\n",
              "\n",
              "    .colab-df-convert:hover {\n",
              "      background-color: #E2EBFA;\n",
              "      box-shadow: 0px 1px 2px rgba(60, 64, 67, 0.3), 0px 1px 3px 1px rgba(60, 64, 67, 0.15);\n",
              "      fill: #174EA6;\n",
              "    }\n",
              "\n",
              "    .colab-df-buttons div {\n",
              "      margin-bottom: 4px;\n",
              "    }\n",
              "\n",
              "    [theme=dark] .colab-df-convert {\n",
              "      background-color: #3B4455;\n",
              "      fill: #D2E3FC;\n",
              "    }\n",
              "\n",
              "    [theme=dark] .colab-df-convert:hover {\n",
              "      background-color: #434B5C;\n",
              "      box-shadow: 0px 1px 3px 1px rgba(0, 0, 0, 0.15);\n",
              "      filter: drop-shadow(0px 1px 2px rgba(0, 0, 0, 0.3));\n",
              "      fill: #FFFFFF;\n",
              "    }\n",
              "  </style>\n",
              "\n",
              "    <script>\n",
              "      const buttonEl =\n",
              "        document.querySelector('#df-ee8ada1c-161c-4d69-b144-1c7a4b7c11c8 button.colab-df-convert');\n",
              "      buttonEl.style.display =\n",
              "        google.colab.kernel.accessAllowed ? 'block' : 'none';\n",
              "\n",
              "      async function convertToInteractive(key) {\n",
              "        const element = document.querySelector('#df-ee8ada1c-161c-4d69-b144-1c7a4b7c11c8');\n",
              "        const dataTable =\n",
              "          await google.colab.kernel.invokeFunction('convertToInteractive',\n",
              "                                                    [key], {});\n",
              "        if (!dataTable) return;\n",
              "\n",
              "        const docLinkHtml = 'Like what you see? Visit the ' +\n",
              "          '<a target=\"_blank\" href=https://colab.research.google.com/notebooks/data_table.ipynb>data table notebook</a>'\n",
              "          + ' to learn more about interactive tables.';\n",
              "        element.innerHTML = '';\n",
              "        dataTable['output_type'] = 'display_data';\n",
              "        await google.colab.output.renderOutput(dataTable, element);\n",
              "        const docLink = document.createElement('div');\n",
              "        docLink.innerHTML = docLinkHtml;\n",
              "        element.appendChild(docLink);\n",
              "      }\n",
              "    </script>\n",
              "  </div>\n",
              "\n",
              "\n",
              "    <div id=\"df-2a674e9e-3c42-4b67-b439-b99b3903318e\">\n",
              "      <button class=\"colab-df-quickchart\" onclick=\"quickchart('df-2a674e9e-3c42-4b67-b439-b99b3903318e')\"\n",
              "                title=\"Suggest charts\"\n",
              "                style=\"display:none;\">\n",
              "\n",
              "<svg xmlns=\"http://www.w3.org/2000/svg\" height=\"24px\"viewBox=\"0 0 24 24\"\n",
              "     width=\"24px\">\n",
              "    <g>\n",
              "        <path d=\"M19 3H5c-1.1 0-2 .9-2 2v14c0 1.1.9 2 2 2h14c1.1 0 2-.9 2-2V5c0-1.1-.9-2-2-2zM9 17H7v-7h2v7zm4 0h-2V7h2v10zm4 0h-2v-4h2v4z\"/>\n",
              "    </g>\n",
              "</svg>\n",
              "      </button>\n",
              "\n",
              "<style>\n",
              "  .colab-df-quickchart {\n",
              "      --bg-color: #E8F0FE;\n",
              "      --fill-color: #1967D2;\n",
              "      --hover-bg-color: #E2EBFA;\n",
              "      --hover-fill-color: #174EA6;\n",
              "      --disabled-fill-color: #AAA;\n",
              "      --disabled-bg-color: #DDD;\n",
              "  }\n",
              "\n",
              "  [theme=dark] .colab-df-quickchart {\n",
              "      --bg-color: #3B4455;\n",
              "      --fill-color: #D2E3FC;\n",
              "      --hover-bg-color: #434B5C;\n",
              "      --hover-fill-color: #FFFFFF;\n",
              "      --disabled-bg-color: #3B4455;\n",
              "      --disabled-fill-color: #666;\n",
              "  }\n",
              "\n",
              "  .colab-df-quickchart {\n",
              "    background-color: var(--bg-color);\n",
              "    border: none;\n",
              "    border-radius: 50%;\n",
              "    cursor: pointer;\n",
              "    display: none;\n",
              "    fill: var(--fill-color);\n",
              "    height: 32px;\n",
              "    padding: 0;\n",
              "    width: 32px;\n",
              "  }\n",
              "\n",
              "  .colab-df-quickchart:hover {\n",
              "    background-color: var(--hover-bg-color);\n",
              "    box-shadow: 0 1px 2px rgba(60, 64, 67, 0.3), 0 1px 3px 1px rgba(60, 64, 67, 0.15);\n",
              "    fill: var(--button-hover-fill-color);\n",
              "  }\n",
              "\n",
              "  .colab-df-quickchart-complete:disabled,\n",
              "  .colab-df-quickchart-complete:disabled:hover {\n",
              "    background-color: var(--disabled-bg-color);\n",
              "    fill: var(--disabled-fill-color);\n",
              "    box-shadow: none;\n",
              "  }\n",
              "\n",
              "  .colab-df-spinner {\n",
              "    border: 2px solid var(--fill-color);\n",
              "    border-color: transparent;\n",
              "    border-bottom-color: var(--fill-color);\n",
              "    animation:\n",
              "      spin 1s steps(1) infinite;\n",
              "  }\n",
              "\n",
              "  @keyframes spin {\n",
              "    0% {\n",
              "      border-color: transparent;\n",
              "      border-bottom-color: var(--fill-color);\n",
              "      border-left-color: var(--fill-color);\n",
              "    }\n",
              "    20% {\n",
              "      border-color: transparent;\n",
              "      border-left-color: var(--fill-color);\n",
              "      border-top-color: var(--fill-color);\n",
              "    }\n",
              "    30% {\n",
              "      border-color: transparent;\n",
              "      border-left-color: var(--fill-color);\n",
              "      border-top-color: var(--fill-color);\n",
              "      border-right-color: var(--fill-color);\n",
              "    }\n",
              "    40% {\n",
              "      border-color: transparent;\n",
              "      border-right-color: var(--fill-color);\n",
              "      border-top-color: var(--fill-color);\n",
              "    }\n",
              "    60% {\n",
              "      border-color: transparent;\n",
              "      border-right-color: var(--fill-color);\n",
              "    }\n",
              "    80% {\n",
              "      border-color: transparent;\n",
              "      border-right-color: var(--fill-color);\n",
              "      border-bottom-color: var(--fill-color);\n",
              "    }\n",
              "    90% {\n",
              "      border-color: transparent;\n",
              "      border-bottom-color: var(--fill-color);\n",
              "    }\n",
              "  }\n",
              "</style>\n",
              "\n",
              "      <script>\n",
              "        async function quickchart(key) {\n",
              "          const quickchartButtonEl =\n",
              "            document.querySelector('#' + key + ' button');\n",
              "          quickchartButtonEl.disabled = true;  // To prevent multiple clicks.\n",
              "          quickchartButtonEl.classList.add('colab-df-spinner');\n",
              "          try {\n",
              "            const charts = await google.colab.kernel.invokeFunction(\n",
              "                'suggestCharts', [key], {});\n",
              "          } catch (error) {\n",
              "            console.error('Error during call to suggestCharts:', error);\n",
              "          }\n",
              "          quickchartButtonEl.classList.remove('colab-df-spinner');\n",
              "          quickchartButtonEl.classList.add('colab-df-quickchart-complete');\n",
              "        }\n",
              "        (() => {\n",
              "          let quickchartButtonEl =\n",
              "            document.querySelector('#df-2a674e9e-3c42-4b67-b439-b99b3903318e button');\n",
              "          quickchartButtonEl.style.display =\n",
              "            google.colab.kernel.accessAllowed ? 'block' : 'none';\n",
              "        })();\n",
              "      </script>\n",
              "    </div>\n",
              "\n",
              "    </div>\n",
              "  </div>\n"
            ],
            "application/vnd.google.colaboratory.intrinsic+json": {
              "type": "dataframe",
              "variable_name": "train"
            }
          },
          "metadata": {},
          "execution_count": 16
        }
      ]
    },
    {
      "cell_type": "code",
      "source": [
        "train.dtypes\n",
        "#Verificamos tipos de datos"
      ],
      "metadata": {
        "colab": {
          "base_uri": "https://localhost:8080/",
          "height": 743
        },
        "id": "EVVg5JKIfAtZ",
        "outputId": "d6891464-f3ec-4e5b-c9ed-1db3c4fbc7c5"
      },
      "execution_count": 18,
      "outputs": [
        {
          "output_type": "execute_result",
          "data": {
            "text/plain": [
              "ID                               int64\n",
              "PERIODO_ACADEMICO                int64\n",
              "E_PRGM_ACADEMICO                object\n",
              "E_PRGM_DEPARTAMENTO             object\n",
              "E_VALORMATRICULAUNIVERSIDAD     object\n",
              "E_HORASSEMANATRABAJA            object\n",
              "F_ESTRATOVIVIENDA               object\n",
              "F_TIENEINTERNET                 object\n",
              "F_EDUCACIONPADRE                object\n",
              "F_TIENELAVADORA                 object\n",
              "F_TIENEAUTOMOVIL                object\n",
              "E_PRIVADO_LIBERTAD              object\n",
              "E_PAGOMATRICULAPROPIO           object\n",
              "F_TIENECOMPUTADOR               object\n",
              "F_TIENEINTERNET.1               object\n",
              "F_EDUCACIONMADRE                object\n",
              "RENDIMIENTO_GLOBAL              object\n",
              "INDICADOR_1                    float64\n",
              "INDICADOR_2                    float64\n",
              "INDICADOR_3                    float64\n",
              "INDICADOR_4                    float64\n",
              "dtype: object"
            ],
            "text/html": [
              "<div>\n",
              "<style scoped>\n",
              "    .dataframe tbody tr th:only-of-type {\n",
              "        vertical-align: middle;\n",
              "    }\n",
              "\n",
              "    .dataframe tbody tr th {\n",
              "        vertical-align: top;\n",
              "    }\n",
              "\n",
              "    .dataframe thead th {\n",
              "        text-align: right;\n",
              "    }\n",
              "</style>\n",
              "<table border=\"1\" class=\"dataframe\">\n",
              "  <thead>\n",
              "    <tr style=\"text-align: right;\">\n",
              "      <th></th>\n",
              "      <th>0</th>\n",
              "    </tr>\n",
              "  </thead>\n",
              "  <tbody>\n",
              "    <tr>\n",
              "      <th>ID</th>\n",
              "      <td>int64</td>\n",
              "    </tr>\n",
              "    <tr>\n",
              "      <th>PERIODO_ACADEMICO</th>\n",
              "      <td>int64</td>\n",
              "    </tr>\n",
              "    <tr>\n",
              "      <th>E_PRGM_ACADEMICO</th>\n",
              "      <td>object</td>\n",
              "    </tr>\n",
              "    <tr>\n",
              "      <th>E_PRGM_DEPARTAMENTO</th>\n",
              "      <td>object</td>\n",
              "    </tr>\n",
              "    <tr>\n",
              "      <th>E_VALORMATRICULAUNIVERSIDAD</th>\n",
              "      <td>object</td>\n",
              "    </tr>\n",
              "    <tr>\n",
              "      <th>E_HORASSEMANATRABAJA</th>\n",
              "      <td>object</td>\n",
              "    </tr>\n",
              "    <tr>\n",
              "      <th>F_ESTRATOVIVIENDA</th>\n",
              "      <td>object</td>\n",
              "    </tr>\n",
              "    <tr>\n",
              "      <th>F_TIENEINTERNET</th>\n",
              "      <td>object</td>\n",
              "    </tr>\n",
              "    <tr>\n",
              "      <th>F_EDUCACIONPADRE</th>\n",
              "      <td>object</td>\n",
              "    </tr>\n",
              "    <tr>\n",
              "      <th>F_TIENELAVADORA</th>\n",
              "      <td>object</td>\n",
              "    </tr>\n",
              "    <tr>\n",
              "      <th>F_TIENEAUTOMOVIL</th>\n",
              "      <td>object</td>\n",
              "    </tr>\n",
              "    <tr>\n",
              "      <th>E_PRIVADO_LIBERTAD</th>\n",
              "      <td>object</td>\n",
              "    </tr>\n",
              "    <tr>\n",
              "      <th>E_PAGOMATRICULAPROPIO</th>\n",
              "      <td>object</td>\n",
              "    </tr>\n",
              "    <tr>\n",
              "      <th>F_TIENECOMPUTADOR</th>\n",
              "      <td>object</td>\n",
              "    </tr>\n",
              "    <tr>\n",
              "      <th>F_TIENEINTERNET.1</th>\n",
              "      <td>object</td>\n",
              "    </tr>\n",
              "    <tr>\n",
              "      <th>F_EDUCACIONMADRE</th>\n",
              "      <td>object</td>\n",
              "    </tr>\n",
              "    <tr>\n",
              "      <th>RENDIMIENTO_GLOBAL</th>\n",
              "      <td>object</td>\n",
              "    </tr>\n",
              "    <tr>\n",
              "      <th>INDICADOR_1</th>\n",
              "      <td>float64</td>\n",
              "    </tr>\n",
              "    <tr>\n",
              "      <th>INDICADOR_2</th>\n",
              "      <td>float64</td>\n",
              "    </tr>\n",
              "    <tr>\n",
              "      <th>INDICADOR_3</th>\n",
              "      <td>float64</td>\n",
              "    </tr>\n",
              "    <tr>\n",
              "      <th>INDICADOR_4</th>\n",
              "      <td>float64</td>\n",
              "    </tr>\n",
              "  </tbody>\n",
              "</table>\n",
              "</div><br><label><b>dtype:</b> object</label>"
            ]
          },
          "metadata": {},
          "execution_count": 18
        }
      ]
    },
    {
      "cell_type": "code",
      "source": [
        "train.isnull().sum()\n",
        "#Verificamos valores nulos"
      ],
      "metadata": {
        "colab": {
          "base_uri": "https://localhost:8080/",
          "height": 743
        },
        "id": "07E1DaFTfDrp",
        "outputId": "067bab06-89f6-4932-b637-8884b64afdbb"
      },
      "execution_count": 19,
      "outputs": [
        {
          "output_type": "execute_result",
          "data": {
            "text/plain": [
              "ID                                 0\n",
              "PERIODO_ACADEMICO                  0\n",
              "E_PRGM_ACADEMICO                   0\n",
              "E_PRGM_DEPARTAMENTO                0\n",
              "E_VALORMATRICULAUNIVERSIDAD     6287\n",
              "E_HORASSEMANATRABAJA           30857\n",
              "F_ESTRATOVIVIENDA              32137\n",
              "F_TIENEINTERNET                26629\n",
              "F_EDUCACIONPADRE               23178\n",
              "F_TIENELAVADORA                39773\n",
              "F_TIENEAUTOMOVIL               43623\n",
              "E_PRIVADO_LIBERTAD                 0\n",
              "E_PAGOMATRICULAPROPIO           6498\n",
              "F_TIENECOMPUTADOR              38103\n",
              "F_TIENEINTERNET.1              26629\n",
              "F_EDUCACIONMADRE               23664\n",
              "RENDIMIENTO_GLOBAL                 0\n",
              "INDICADOR_1                        0\n",
              "INDICADOR_2                        0\n",
              "INDICADOR_3                        0\n",
              "INDICADOR_4                        0\n",
              "dtype: int64"
            ],
            "text/html": [
              "<div>\n",
              "<style scoped>\n",
              "    .dataframe tbody tr th:only-of-type {\n",
              "        vertical-align: middle;\n",
              "    }\n",
              "\n",
              "    .dataframe tbody tr th {\n",
              "        vertical-align: top;\n",
              "    }\n",
              "\n",
              "    .dataframe thead th {\n",
              "        text-align: right;\n",
              "    }\n",
              "</style>\n",
              "<table border=\"1\" class=\"dataframe\">\n",
              "  <thead>\n",
              "    <tr style=\"text-align: right;\">\n",
              "      <th></th>\n",
              "      <th>0</th>\n",
              "    </tr>\n",
              "  </thead>\n",
              "  <tbody>\n",
              "    <tr>\n",
              "      <th>ID</th>\n",
              "      <td>0</td>\n",
              "    </tr>\n",
              "    <tr>\n",
              "      <th>PERIODO_ACADEMICO</th>\n",
              "      <td>0</td>\n",
              "    </tr>\n",
              "    <tr>\n",
              "      <th>E_PRGM_ACADEMICO</th>\n",
              "      <td>0</td>\n",
              "    </tr>\n",
              "    <tr>\n",
              "      <th>E_PRGM_DEPARTAMENTO</th>\n",
              "      <td>0</td>\n",
              "    </tr>\n",
              "    <tr>\n",
              "      <th>E_VALORMATRICULAUNIVERSIDAD</th>\n",
              "      <td>6287</td>\n",
              "    </tr>\n",
              "    <tr>\n",
              "      <th>E_HORASSEMANATRABAJA</th>\n",
              "      <td>30857</td>\n",
              "    </tr>\n",
              "    <tr>\n",
              "      <th>F_ESTRATOVIVIENDA</th>\n",
              "      <td>32137</td>\n",
              "    </tr>\n",
              "    <tr>\n",
              "      <th>F_TIENEINTERNET</th>\n",
              "      <td>26629</td>\n",
              "    </tr>\n",
              "    <tr>\n",
              "      <th>F_EDUCACIONPADRE</th>\n",
              "      <td>23178</td>\n",
              "    </tr>\n",
              "    <tr>\n",
              "      <th>F_TIENELAVADORA</th>\n",
              "      <td>39773</td>\n",
              "    </tr>\n",
              "    <tr>\n",
              "      <th>F_TIENEAUTOMOVIL</th>\n",
              "      <td>43623</td>\n",
              "    </tr>\n",
              "    <tr>\n",
              "      <th>E_PRIVADO_LIBERTAD</th>\n",
              "      <td>0</td>\n",
              "    </tr>\n",
              "    <tr>\n",
              "      <th>E_PAGOMATRICULAPROPIO</th>\n",
              "      <td>6498</td>\n",
              "    </tr>\n",
              "    <tr>\n",
              "      <th>F_TIENECOMPUTADOR</th>\n",
              "      <td>38103</td>\n",
              "    </tr>\n",
              "    <tr>\n",
              "      <th>F_TIENEINTERNET.1</th>\n",
              "      <td>26629</td>\n",
              "    </tr>\n",
              "    <tr>\n",
              "      <th>F_EDUCACIONMADRE</th>\n",
              "      <td>23664</td>\n",
              "    </tr>\n",
              "    <tr>\n",
              "      <th>RENDIMIENTO_GLOBAL</th>\n",
              "      <td>0</td>\n",
              "    </tr>\n",
              "    <tr>\n",
              "      <th>INDICADOR_1</th>\n",
              "      <td>0</td>\n",
              "    </tr>\n",
              "    <tr>\n",
              "      <th>INDICADOR_2</th>\n",
              "      <td>0</td>\n",
              "    </tr>\n",
              "    <tr>\n",
              "      <th>INDICADOR_3</th>\n",
              "      <td>0</td>\n",
              "    </tr>\n",
              "    <tr>\n",
              "      <th>INDICADOR_4</th>\n",
              "      <td>0</td>\n",
              "    </tr>\n",
              "  </tbody>\n",
              "</table>\n",
              "</div><br><label><b>dtype:</b> int64</label>"
            ]
          },
          "metadata": {},
          "execution_count": 19
        }
      ]
    },
    {
      "cell_type": "markdown",
      "source": [
        "#Se analizan los estratos socioeconomicos de los estudiantes"
      ],
      "metadata": {
        "id": "crlIe1jqfY4I"
      }
    },
    {
      "cell_type": "code",
      "source": [
        "train[\"F_ESTRATOVIVIENDA\"].describe()"
      ],
      "metadata": {
        "colab": {
          "base_uri": "https://localhost:8080/",
          "height": 209
        },
        "id": "a07vwVLAfcI7",
        "outputId": "1b9651f2-d8d9-4892-8a88-2808d593f35f"
      },
      "execution_count": 20,
      "outputs": [
        {
          "output_type": "execute_result",
          "data": {
            "text/plain": [
              "count        660363\n",
              "unique            7\n",
              "top       Estrato 2\n",
              "freq         232671\n",
              "Name: F_ESTRATOVIVIENDA, dtype: object"
            ],
            "text/html": [
              "<div>\n",
              "<style scoped>\n",
              "    .dataframe tbody tr th:only-of-type {\n",
              "        vertical-align: middle;\n",
              "    }\n",
              "\n",
              "    .dataframe tbody tr th {\n",
              "        vertical-align: top;\n",
              "    }\n",
              "\n",
              "    .dataframe thead th {\n",
              "        text-align: right;\n",
              "    }\n",
              "</style>\n",
              "<table border=\"1\" class=\"dataframe\">\n",
              "  <thead>\n",
              "    <tr style=\"text-align: right;\">\n",
              "      <th></th>\n",
              "      <th>F_ESTRATOVIVIENDA</th>\n",
              "    </tr>\n",
              "  </thead>\n",
              "  <tbody>\n",
              "    <tr>\n",
              "      <th>count</th>\n",
              "      <td>660363</td>\n",
              "    </tr>\n",
              "    <tr>\n",
              "      <th>unique</th>\n",
              "      <td>7</td>\n",
              "    </tr>\n",
              "    <tr>\n",
              "      <th>top</th>\n",
              "      <td>Estrato 2</td>\n",
              "    </tr>\n",
              "    <tr>\n",
              "      <th>freq</th>\n",
              "      <td>232671</td>\n",
              "    </tr>\n",
              "  </tbody>\n",
              "</table>\n",
              "</div><br><label><b>dtype:</b> object</label>"
            ]
          },
          "metadata": {},
          "execution_count": 20
        }
      ]
    },
    {
      "cell_type": "markdown",
      "source": [
        "Esta columna en el data set muestra que hay 7 estratos socioeconomicos, donde el mas frecuente es el estrato 2 con 232671 estudiantes"
      ],
      "metadata": {
        "id": "2Fg5QsIrf4kU"
      }
    },
    {
      "cell_type": "code",
      "source": [
        "train[\"F_ESTRATOVIVIENDA\"].value_counts()"
      ],
      "metadata": {
        "colab": {
          "base_uri": "https://localhost:8080/",
          "height": 335
        },
        "id": "GmTNwyRbf3eZ",
        "outputId": "94f202bd-b0a6-4c38-8a05-d7462c495f99"
      },
      "execution_count": 21,
      "outputs": [
        {
          "output_type": "execute_result",
          "data": {
            "text/plain": [
              "F_ESTRATOVIVIENDA\n",
              "Estrato 2      232671\n",
              "Estrato 3      210685\n",
              "Estrato 1      111991\n",
              "Estrato 4       65514\n",
              "Estrato 5       23608\n",
              "Estrato 6       12605\n",
              "Sin Estrato      3289\n",
              "Name: count, dtype: int64"
            ],
            "text/html": [
              "<div>\n",
              "<style scoped>\n",
              "    .dataframe tbody tr th:only-of-type {\n",
              "        vertical-align: middle;\n",
              "    }\n",
              "\n",
              "    .dataframe tbody tr th {\n",
              "        vertical-align: top;\n",
              "    }\n",
              "\n",
              "    .dataframe thead th {\n",
              "        text-align: right;\n",
              "    }\n",
              "</style>\n",
              "<table border=\"1\" class=\"dataframe\">\n",
              "  <thead>\n",
              "    <tr style=\"text-align: right;\">\n",
              "      <th></th>\n",
              "      <th>count</th>\n",
              "    </tr>\n",
              "    <tr>\n",
              "      <th>F_ESTRATOVIVIENDA</th>\n",
              "      <th></th>\n",
              "    </tr>\n",
              "  </thead>\n",
              "  <tbody>\n",
              "    <tr>\n",
              "      <th>Estrato 2</th>\n",
              "      <td>232671</td>\n",
              "    </tr>\n",
              "    <tr>\n",
              "      <th>Estrato 3</th>\n",
              "      <td>210685</td>\n",
              "    </tr>\n",
              "    <tr>\n",
              "      <th>Estrato 1</th>\n",
              "      <td>111991</td>\n",
              "    </tr>\n",
              "    <tr>\n",
              "      <th>Estrato 4</th>\n",
              "      <td>65514</td>\n",
              "    </tr>\n",
              "    <tr>\n",
              "      <th>Estrato 5</th>\n",
              "      <td>23608</td>\n",
              "    </tr>\n",
              "    <tr>\n",
              "      <th>Estrato 6</th>\n",
              "      <td>12605</td>\n",
              "    </tr>\n",
              "    <tr>\n",
              "      <th>Sin Estrato</th>\n",
              "      <td>3289</td>\n",
              "    </tr>\n",
              "  </tbody>\n",
              "</table>\n",
              "</div><br><label><b>dtype:</b> int64</label>"
            ]
          },
          "metadata": {},
          "execution_count": 21
        }
      ]
    },
    {
      "cell_type": "code",
      "source": [],
      "metadata": {
        "id": "_xqaT1vcgDKv"
      },
      "execution_count": null,
      "outputs": []
    },
    {
      "cell_type": "markdown",
      "source": [
        "Esta tabla muestra el número de estudiantes por cada estrato socio economico, en la columna hay algunos datos indicados como \"Sin Estrato\""
      ],
      "metadata": {
        "id": "dcai3zRMgJmt"
      }
    },
    {
      "cell_type": "code",
      "source": [
        "train[\"F_ESTRATOVIVIENDA\"].value_counts().plot(kind='bar')"
      ],
      "metadata": {
        "colab": {
          "base_uri": "https://localhost:8080/",
          "height": 528
        },
        "id": "CJy-ZtD7gNOa",
        "outputId": "9e657d77-5bfc-4768-8709-000107e90964"
      },
      "execution_count": 24,
      "outputs": [
        {
          "output_type": "execute_result",
          "data": {
            "text/plain": [
              "<Axes: xlabel='F_ESTRATOVIVIENDA'>"
            ]
          },
          "metadata": {},
          "execution_count": 24
        },
        {
          "output_type": "display_data",
          "data": {
            "text/plain": [
              "<Figure size 640x480 with 1 Axes>"
            ],
            "image/png": "[encoded data removed]"
          },
          "metadata": {}
        }
      ]
    },
    {
      "cell_type": "markdown",
      "source": [
        "Se analiza además un diagrama de cajas y bigotes para el caso del indicador 1"
      ],
      "metadata": {
        "id": "42NktJp0iYrk"
      }
    },
    {
      "cell_type": "code",
      "source": [
        "import matplotlib.pyplot as plt\n",
        "import seaborn as sns\n",
        "\n",
        "plt.figure(figsize=(10, 6))\n",
        "order = ['Estrato 1', 'Estrato 2', 'Estrato 3', 'Estrato 4', 'Estrato 5', 'Estrato 6', 'Sin Estrato']\n",
        "sns.boxplot(x='F_ESTRATOVIVIENDA', y='INDICADOR_1', data=train, order=order)\n",
        "plt.title('Distribución del Indicador 1 por Estrato Socioeconómico')\n",
        "plt.xlabel('Estrato Socioeconómico')\n",
        "plt.ylabel('Indicador 1')\n",
        "plt.xticks(rotation=45)\n",
        "plt.tight_layout()\n",
        "plt.show()"
      ],
      "metadata": {
        "colab": {
          "base_uri": "https://localhost:8080/",
          "height": 607
        },
        "id": "DsJbtdN6jBLH",
        "outputId": "c354dd12-a287-41fd-c822-fc6c680daee4"
      },
      "execution_count": 32,
      "outputs": [
        {
          "output_type": "display_data",
          "data": {
            "text/plain": [
              "<Figure size 1000x600 with 1 Axes>"
            ],
            "image/png": "[encoded data removed]"
          },
          "metadata": {}
        }
      ]
    },
    {
      "cell_type": "code",
      "source": [],
      "metadata": {
        "id": "UAwmwpGUiNhD"
      },
      "execution_count": null,
      "outputs": []
    }
  ]
}